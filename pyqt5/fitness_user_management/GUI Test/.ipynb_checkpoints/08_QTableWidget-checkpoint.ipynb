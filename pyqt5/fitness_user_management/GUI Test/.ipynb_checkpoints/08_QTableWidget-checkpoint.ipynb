{
 "cells": [
  {
   "cell_type": "code",
   "execution_count": 1,
   "metadata": {},
   "outputs": [],
   "source": [
    "import sys\n",
    "from PyQt5.QtWidgets import *"
   ]
  },
  {
   "cell_type": "code",
   "execution_count": 2,
   "metadata": {},
   "outputs": [],
   "source": [
    "class MyWindow(QMainWindow):\n",
    "    def __init__(self):\n",
    "        super().__init__()\n",
    "        self.setupUI()\n",
    "    \n",
    "    def setupUI(self):\n",
    "        self.setGeometry(800, 200, 300, 300)\n",
    "\n",
    "        self.tableWidget = QTableWidget(self)\n",
    "        self.tableWidget.resize(290, 290)\n",
    "        self.tableWidget.setRowCount(2)\n",
    "        self.tableWidget.setColumnCount(2)\n",
    "        \n",
    "        self.tableWidget.setItem(0, 0, QTableWidgetItem(\"(0,0)\"))\n",
    "        self.tableWidget.setItem(0, 1, QTableWidgetItem(\"(0,1)\"))\n",
    "        self.tableWidget.setItem(1, 0, QTableWidgetItem(\"(1,0)\"))\n",
    "        self.tableWidget.setItem(1, 1, QTableWidgetItem(\"(1,1)\"))\n",
    "        \n",
    "        column_headers = ['종목코드', '종목명', '종가']\n",
    "        self.tableWidget.setHorizontalHeaderLabels(column_headers)\n",
    "        \n",
    "#         self.setTableWidgetData()"
   ]
  },
  {
   "cell_type": "code",
   "execution_count": 3,
   "metadata": {},
   "outputs": [],
   "source": [
    "if __name__ == \"__main__\":\n",
    "    app = QApplication(sys.argv)\n",
    "    mywindow = MyWindow()\n",
    "    mywindow.show()\n",
    "    app.exec_()"
   ]
  },
  {
   "cell_type": "code",
   "execution_count": 4,
   "metadata": {},
   "outputs": [],
   "source": [
    "kospi_top5 = {\n",
    "    'code': ['005930', '015760', '005380', '090430', '012330'],\n",
    "    'name': ['삼성전자', '한국전력', '현대차', '아모레퍼시픽', '현대모비스'],\n",
    "    'cprice': ['1,269,000', '60,100', '132,000', '414,500', '243,500']\n",
    "}"
   ]
  },
  {
   "cell_type": "code",
   "execution_count": 6,
   "metadata": {},
   "outputs": [
    {
     "data": {
      "text/plain": [
       "dict_items([('cprice', ['1,269,000', '60,100', '132,000', '414,500', '243,500']), ('code', ['005930', '015760', '005380', '090430', '012330']), ('name', ['삼성전자', '한국전력', '현대차', '아모레퍼시픽', '현대모비스'])])"
      ]
     },
     "execution_count": 6,
     "metadata": {},
     "output_type": "execute_result"
    }
   ],
   "source": [
    "kospi_top5.items()"
   ]
  },
  {
   "cell_type": "code",
   "execution_count": 24,
   "metadata": {},
   "outputs": [
    {
     "name": "stdout",
     "output_type": "stream",
     "text": [
      "cprice ['1,269,000', '60,100', '132,000', '414,500', '243,500']\n",
      "code ['005930', '015760', '005380', '090430', '012330']\n",
      "name ['삼성전자', '한국전력', '현대차', '아모레퍼시픽', '현대모비스']\n"
     ]
    }
   ],
   "source": [
    "for k, v in  kospi_top5.items():\n",
    "    print(k, v)"
   ]
  },
  {
   "cell_type": "code",
   "execution_count": 21,
   "metadata": {},
   "outputs": [
    {
     "data": {
      "text/plain": [
       "['005930', '015760', '005380', '090430', '012330']"
      ]
     },
     "execution_count": 21,
     "metadata": {},
     "output_type": "execute_result"
    }
   ],
   "source": [
    "kospi_top5['code']"
   ]
  },
  {
   "cell_type": "code",
   "execution_count": 22,
   "metadata": {},
   "outputs": [],
   "source": [
    "column_idx_lookup = {'code': 0, 'name': 1, 'cprice': 2}"
   ]
  },
  {
   "cell_type": "code",
   "execution_count": 25,
   "metadata": {},
   "outputs": [],
   "source": [
    "col = column_idx_lookup[k]"
   ]
  },
  {
   "cell_type": "code",
   "execution_count": 26,
   "metadata": {},
   "outputs": [
    {
     "data": {
      "text/plain": [
       "1"
      ]
     },
     "execution_count": 26,
     "metadata": {},
     "output_type": "execute_result"
    }
   ],
   "source": [
    "col"
   ]
  },
  {
   "cell_type": "code",
   "execution_count": 28,
   "metadata": {},
   "outputs": [
    {
     "name": "stdout",
     "output_type": "stream",
     "text": [
      "삼성전자\n",
      "한국전력\n",
      "현대차\n",
      "아모레퍼시픽\n",
      "현대모비스\n"
     ]
    }
   ],
   "source": [
    "for row, val in enumerate(v):\n",
    "    print(val)"
   ]
  },
  {
   "cell_type": "code",
   "execution_count": 32,
   "metadata": {},
   "outputs": [
    {
     "name": "stdout",
     "output_type": "stream",
     "text": [
      "2\n",
      "1,269,000\n",
      "60,100\n",
      "132,000\n",
      "414,500\n",
      "243,500\n",
      "0\n",
      "005930\n",
      "015760\n",
      "005380\n",
      "090430\n",
      "012330\n",
      "1\n",
      "삼성전자\n",
      "한국전력\n",
      "현대차\n",
      "아모레퍼시픽\n",
      "현대모비스\n"
     ]
    }
   ],
   "source": [
    "for k, v in kospi_top5.items():\n",
    "    col = column_idx_lookup[k]\n",
    "    print(col)\n",
    "    for row, val in enumerate(v):\n",
    "        print(val)\n",
    "        item = QTableWidgetItem(val)"
   ]
  },
  {
   "cell_type": "code",
   "execution_count": null,
   "metadata": {},
   "outputs": [],
   "source": []
  }
 ],
 "metadata": {
  "kernelspec": {
   "display_name": "Python 3",
   "language": "python",
   "name": "python3"
  },
  "language_info": {
   "codemirror_mode": {
    "name": "ipython",
    "version": 3
   },
   "file_extension": ".py",
   "mimetype": "text/x-python",
   "name": "python",
   "nbconvert_exporter": "python",
   "pygments_lexer": "ipython3",
   "version": "3.5.2"
  }
 },
 "nbformat": 4,
 "nbformat_minor": 2
}
