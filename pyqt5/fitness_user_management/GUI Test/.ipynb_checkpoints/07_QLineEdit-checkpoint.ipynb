{
 "cells": [
  {
   "cell_type": "code",
   "execution_count": 1,
   "metadata": {},
   "outputs": [],
   "source": [
    "import sys\n",
    "from PyQt5.QtWidgets import *"
   ]
  },
  {
   "cell_type": "code",
   "execution_count": 2,
   "metadata": {},
   "outputs": [],
   "source": [
    "class MyWindow(QMainWindow):\n",
    "    def __init__(self):\n",
    "        super().__init__()\n",
    "        self.setupUI()\n",
    "\n",
    "    def setupUI(self):\n",
    "        self.setGeometry(800, 400, 300, 150)\n",
    "\n",
    "        # Label\n",
    "        label = QLabel(\"종목코드\", self)\n",
    "        label.move(20, 20)\n",
    "\n",
    "        # LineEdit\n",
    "        self.lineEdit = QLineEdit(\"\", self)\n",
    "        self.lineEdit.move(80, 20)\n",
    "        self.lineEdit.textChanged.connect(self.lineEditChanged)\n",
    "\n",
    "        # StatusBar\n",
    "        self.statusBar = QStatusBar(self)\n",
    "        self.setStatusBar(self.statusBar)\n",
    "\n",
    "    def lineEditChanged(self):\n",
    "        self.statusBar.showMessage(self.lineEdit.text())"
   ]
  },
  {
   "cell_type": "code",
   "execution_count": 3,
   "metadata": {},
   "outputs": [],
   "source": [
    "if __name__ == \"__main__\":\n",
    "    app = QApplication(sys.argv)\n",
    "    mywindow = MyWindow()\n",
    "    mywindow.show()\n",
    "    app.exec_()"
   ]
  },
  {
   "cell_type": "code",
   "execution_count": null,
   "metadata": {},
   "outputs": [],
   "source": []
  }
 ],
 "metadata": {
  "kernelspec": {
   "display_name": "Python 3",
   "language": "python",
   "name": "python3"
  },
  "language_info": {
   "codemirror_mode": {
    "name": "ipython",
    "version": 3
   },
   "file_extension": ".py",
   "mimetype": "text/x-python",
   "name": "python",
   "nbconvert_exporter": "python",
   "pygments_lexer": "ipython3",
   "version": "3.5.2"
  }
 },
 "nbformat": 4,
 "nbformat_minor": 2
}
