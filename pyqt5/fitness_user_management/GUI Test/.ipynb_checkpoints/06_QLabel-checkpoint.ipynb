{
 "cells": [
  {
   "cell_type": "code",
   "execution_count": 1,
   "metadata": {},
   "outputs": [],
   "source": [
    "import sys\n",
    "from PyQt5.QtWidgets import *"
   ]
  },
  {
   "cell_type": "markdown",
   "metadata": {},
   "source": [
    "- 생성한 위젯을 클래스 내의 다른 메서드(setupUI가 아닌)에서 참조할 때는 변수 이름에 self를 붙여야 하고 그렇지 않은 경우에는 self를 붙이지 않는다고 생각하면 쉽습니다."
   ]
  },
  {
   "cell_type": "markdown",
   "metadata": {},
   "source": [
    "- self.label은 setupUI 메서드뿐 아니라 btn1_clicked와 btn2_clicked라는 메서드에서도 사용됩니다. 따라서 self를 붙여서 변수 이름을 생성했습니다. 이와 달리 textLabel은 setupUI 메서드에서만 사용하고 더는 참조되지 않기 때문에 self를 붙이지 않아도 되는 것입니다."
   ]
  },
  {
   "cell_type": "code",
   "execution_count": 2,
   "metadata": {},
   "outputs": [],
   "source": [
    "class MyWindow(QMainWindow):\n",
    "    def __init__(self):\n",
    "        super().__init__()\n",
    "        self.setupUI()\n",
    "\n",
    "    def setupUI(self):\n",
    "        self.setGeometry(800, 400, 300, 150)\n",
    "\n",
    "        textLabel = QLabel(\"Message: \", self)\n",
    "        textLabel.move(20, 20)\n",
    "\n",
    "        self.label = QLabel(\"\", self)\n",
    "        self.label.move(80, 20)\n",
    "        self.label.resize(150, 30)\n",
    "\n",
    "        btn1 = QPushButton(\"Click\", self)\n",
    "        btn1.move(20, 60)\n",
    "        btn1.clicked.connect(self.btn1_clicked)\n",
    "\n",
    "        btn2 = QPushButton(\"Clear\", self)\n",
    "        btn2.move(140, 60)\n",
    "        btn2.clicked.connect(self.btn2_clicked)\n",
    "\n",
    "    def btn1_clicked(self):\n",
    "        self.label.setText(\"버튼이 클릭되었습니다.\")\n",
    "\n",
    "    def btn2_clicked(self):\n",
    "        self.label.clear()\n"
   ]
  },
  {
   "cell_type": "code",
   "execution_count": 3,
   "metadata": {},
   "outputs": [],
   "source": [
    "if __name__ == \"__main__\":\n",
    "    app = QApplication(sys.argv)\n",
    "    mywindow = MyWindow()\n",
    "    mywindow.show()\n",
    "    app.exec_()"
   ]
  },
  {
   "cell_type": "code",
   "execution_count": null,
   "metadata": {},
   "outputs": [],
   "source": []
  }
 ],
 "metadata": {
  "kernelspec": {
   "display_name": "Python 3",
   "language": "python",
   "name": "python3"
  },
  "language_info": {
   "codemirror_mode": {
    "name": "ipython",
    "version": 3
   },
   "file_extension": ".py",
   "mimetype": "text/x-python",
   "name": "python",
   "nbconvert_exporter": "python",
   "pygments_lexer": "ipython3",
   "version": "3.5.2"
  }
 },
 "nbformat": 4,
 "nbformat_minor": 2
}
