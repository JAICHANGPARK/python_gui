{
 "cells": [
  {
   "cell_type": "markdown",
   "metadata": {},
   "source": [
    "두 번째는 이벤트 루프입니다. PyQt에서는 QApplication 객체에서 exec_ 메서드를 호출해 이벤트 루프를 생성합니다. 여러분은 이벤트 루프를 생성만 할 뿐 실제로 이벤트 루프에서 여러분이 관여하는 일은 많지 않습니다."
   ]
  },
  {
   "cell_type": "code",
   "execution_count": 1,
   "metadata": {},
   "outputs": [],
   "source": [
    "import sys\n",
    "from PyQt5.QtWidgets import *\n",
    "from PyQt5.QtCore import *"
   ]
  },
  {
   "cell_type": "markdown",
   "metadata": {},
   "source": [
    "세 번째는 이벤트를 처리할 함수 또는 메서드를 구현하는 부분입니다. 버튼과 같은 위젯을 클릭하면 해당 위젯은 'clicked'라는 시그널(signal)을 발생시킵니다. 여러분은 'clicked'라는 시그널이 발생했을 때 호출되는 함수 또는 메서드를 구현해야 합니다. PyQt에서는 특정 시그널이 발생했을 때 호출되는 함수 또는 메서드를 슬롯(slot)이라고 합니다. 참고로 다른 프로그래밍 언어에서는 콜백 함수(callback function)라고 부르기도 합니다.\n"
   ]
  },
  {
   "cell_type": "code",
   "execution_count": 2,
   "metadata": {},
   "outputs": [],
   "source": [
    "class MyWindow(QMainWindow):\n",
    "    def __init__(self):\n",
    "        super().__init__()\n",
    "        self.setWindowTitle(\"Center Management\")\n",
    "        self.setGeometry(300, 300, 300, 400)\n",
    "        btn1 = QPushButton(\"Click me\", self)\n",
    "        btn1.move(20, 20)\n",
    "        btn1.clicked.connect(self.btn1_clicked)\n",
    "\n",
    "    def btn1_clicked(self):\n",
    "        QMessageBox.about(self, \"message\", \"clicked\")"
   ]
  },
  {
   "cell_type": "markdown",
   "metadata": {},
   "source": [
    "여기서 한 가지 주의할 점은 슬롯의 구현과 시그널-슬롯의 연결이 모두 이벤트 루프를 생성하는 app.exec_ 메서드 호출보다 먼저 수행돼야 한다는 점입니다."
   ]
  },
  {
   "cell_type": "code",
   "execution_count": 3,
   "metadata": {},
   "outputs": [],
   "source": [
    "if __name__ == \"__main__\":\n",
    "    app = QApplication(sys.argv)\n",
    "    myWindow = MyWindow()\n",
    "    myWindow.show()\n",
    "    app.exec_()"
   ]
  },
  {
   "cell_type": "code",
   "execution_count": null,
   "metadata": {},
   "outputs": [],
   "source": []
  }
 ],
 "metadata": {
  "kernelspec": {
   "display_name": "Python 3",
   "language": "python",
   "name": "python3"
  },
  "language_info": {
   "codemirror_mode": {
    "name": "ipython",
    "version": 3
   },
   "file_extension": ".py",
   "mimetype": "text/x-python",
   "name": "python",
   "nbconvert_exporter": "python",
   "pygments_lexer": "ipython3",
   "version": "3.5.2"
  }
 },
 "nbformat": 4,
 "nbformat_minor": 2
}
