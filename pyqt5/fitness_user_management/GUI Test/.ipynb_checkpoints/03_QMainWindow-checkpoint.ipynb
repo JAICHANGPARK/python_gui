{
 "cells": [
  {
   "cell_type": "code",
   "execution_count": 1,
   "metadata": {},
   "outputs": [],
   "source": [
    "import sys\n",
    "from PyQt5.QtWidgets import *"
   ]
  },
  {
   "cell_type": "markdown",
   "metadata": {},
   "source": [
    "MyWindow 클래스의 생성자 부분을 살펴보면 먼저 super().__init__()을 호출하는데 이는 부모 클래스에 정의된 __init__()을 호출하는 것을 의미합니다. 이 예제에서는 MyWindow 클래스가 QMainWindow 클래스를 상속받았으므로 QMainWindow 클래스의 생성자인 __init__()을 호출하게 됩니다."
   ]
  },
  {
   "cell_type": "markdown",
   "metadata": {},
   "source": [
    "setWindowTitle은 윈도우의 타이틀 창의 텍스트를 바꾸는 메서드고, setGeometry는 창의 위치 및 크기를 조절하는 메서드입니다."
   ]
  },
  {
   "cell_type": "code",
   "execution_count": 3,
   "metadata": {},
   "outputs": [],
   "source": [
    "class MyWindow(QMainWindow):\n",
    "    def __init(self):\n",
    "        super().__init__()\n",
    "        self.setWindowTitle(\"Center Management\")\n",
    "        self.setGeometry(300,300,300,400)"
   ]
  },
  {
   "cell_type": "markdown",
   "metadata": {},
   "source": [
    "app을 통해 exec_ 메서드를 호출하면 프로그램은 이벤트 루프(event loop)에 진입합니다."
   ]
  },
  {
   "cell_type": "code",
   "execution_count": null,
   "metadata": {},
   "outputs": [],
   "source": [
    "if __name__ == \"__main__\":\n",
    "    app = QApplication(sys.argv)\n",
    "    my_window = MyWindow()\n",
    "    my_window.show()\n",
    "    app.exec_()"
   ]
  },
  {
   "cell_type": "markdown",
   "metadata": {},
   "source": [
    "이벤트 루프는 기본적으로 무한 루프 구조이며, 무한 루프 상태에서 사용자가 발생한 이벤트를 그때그때 처리해줍니다. 예를 들어, 사용자가 윈도우를 클릭하면 ‘클릭 이벤트’가 발생하는데 이때 이벤트 루프에서 ‘클릭 이벤트’를 처리 해주는 것입니다."
   ]
  },
  {
   "cell_type": "code",
   "execution_count": null,
   "metadata": {},
   "outputs": [],
   "source": []
  }
 ],
 "metadata": {
  "kernelspec": {
   "display_name": "Python 3",
   "language": "python",
   "name": "python3"
  },
  "language_info": {
   "codemirror_mode": {
    "name": "ipython",
    "version": 3
   },
   "file_extension": ".py",
   "mimetype": "text/x-python",
   "name": "python",
   "nbconvert_exporter": "python",
   "pygments_lexer": "ipython3",
   "version": "3.5.2"
  }
 },
 "nbformat": 4,
 "nbformat_minor": 2
}
