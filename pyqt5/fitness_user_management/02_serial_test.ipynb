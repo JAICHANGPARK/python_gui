{
 "cells": [
  {
   "cell_type": "code",
   "execution_count": 31,
   "metadata": {},
   "outputs": [],
   "source": [
    "import serial\n",
    "import sys\n",
    "import glob"
   ]
  },
  {
   "cell_type": "code",
   "execution_count": 40,
   "metadata": {},
   "outputs": [
    {
     "name": "stdout",
     "output_type": "stream",
     "text": [
      "True\n"
     ]
    }
   ],
   "source": [
    "s = serial.Serial('COM23',9600)\n",
    "result = s.is_open\n",
    "print(result)"
   ]
  },
  {
   "cell_type": "code",
   "execution_count": 43,
   "metadata": {},
   "outputs": [],
   "source": [
    "def read_user_Tag(result):\n",
    "    if(result):\n",
    "        s.write(b'r')\n",
    "        while(True):\n",
    "        #     s.write('r'.encode())\n",
    "            read = s.readline()\n",
    "            print(read, type(read))\n",
    "            read = read.decode()\n",
    "        #     read_list.append(read)\n",
    "            print(read, type(read))\n",
    "            if(read[0] =='r'):\n",
    "                user_tag = read[1:]\n",
    "                return user_tag\n",
    "        #     time.sleep(1)\n",
    "    print(user_tag, type(user_tag))\n",
    "    s.close();"
   ]
  },
  {
   "cell_type": "code",
   "execution_count": 45,
   "metadata": {},
   "outputs": [
    {
     "name": "stdout",
     "output_type": "stream",
     "text": [
      "b'x\\r\\n' <class 'bytes'>\n",
      "x\n",
      " <class 'str'>\n",
      "b'x\\r\\n' <class 'bytes'>\n",
      "x\n",
      " <class 'str'>\n",
      "b'x\\r\\n' <class 'bytes'>\n",
      "x\n",
      " <class 'str'>\n",
      "b'x\\r\\n' <class 'bytes'>\n",
      "x\n",
      " <class 'str'>\n",
      "b'x\\r\\n' <class 'bytes'>\n",
      "x\n",
      " <class 'str'>\n",
      "b'x\\r\\n' <class 'bytes'>\n",
      "x\n",
      " <class 'str'>\n",
      "b'x\\r\\n' <class 'bytes'>\n",
      "x\n",
      " <class 'str'>\n",
      "b'x\\r\\n' <class 'bytes'>\n",
      "x\n",
      " <class 'str'>\n",
      "b'x\\r\\n' <class 'bytes'>\n",
      "x\n",
      " <class 'str'>\n",
      "b'x\\r\\n' <class 'bytes'>\n",
      "x\n",
      " <class 'str'>\n",
      "b'x\\r\\n' <class 'bytes'>\n",
      "x\n",
      " <class 'str'>\n",
      "b'x\\r\\n' <class 'bytes'>\n",
      "x\n",
      " <class 'str'>\n",
      "b'PICC type: MIFARE 1KB\\r\\n' <class 'bytes'>\n",
      "PICC type: MIFARE 1KB\n",
      " <class 'str'>\n",
      "b'A new card has been detected.\\r\\n' <class 'bytes'>\n",
      "A new card has been detected.\n",
      " <class 'str'>\n",
      "b'The NUID tag is:\\r\\n' <class 'bytes'>\n",
      "The NUID tag is:\n",
      " <class 'str'>\n",
      "b'In hex:  5A 4C 13 06\\r\\n' <class 'bytes'>\n",
      "In hex:  5A 4C 13 06\n",
      " <class 'str'>\n",
      "b'In dec:  90 76 19 06\\r\\n' <class 'bytes'>\n",
      "In dec:  90 76 19 06\n",
      " <class 'str'>\n",
      "b'x\\r\\n' <class 'bytes'>\n",
      "x\n",
      " <class 'str'>\n",
      "b'x\\r\\n' <class 'bytes'>\n",
      "x\n",
      " <class 'str'>\n",
      "b'r5A4C136\\r\\n' <class 'bytes'>\n",
      "r5A4C136\n",
      " <class 'str'>\n"
     ]
    }
   ],
   "source": [
    "users = read_user_Tag(result)"
   ]
  },
  {
   "cell_type": "code",
   "execution_count": 27,
   "metadata": {},
   "outputs": [
    {
     "name": "stdout",
     "output_type": "stream",
     "text": [
      "b'x\\r\\n' <class 'bytes'>\n",
      "x\r\n",
      " <class 'str'>\n",
      "0000\r\n",
      " <class 'str'>\n"
     ]
    }
   ],
   "source": [
    "s.write(b'r')\n",
    "#     s.write('r'.encode())\n",
    "read = s.readline()\n",
    "print(read, type(read))\n",
    "read = read.decode()\n",
    "#     read_list.append(read)\n",
    "print(read, type(read))\n",
    "if(read[0] =='r'):\n",
    "    user_tag = read[1:]\n",
    "#     time.sleep(1)\n",
    "print(user_tag, type(user_tag))"
   ]
  },
  {
   "cell_type": "code",
   "execution_count": 39,
   "metadata": {},
   "outputs": [],
   "source": [
    "s.close()"
   ]
  },
  {
   "cell_type": "code",
   "execution_count": null,
   "metadata": {},
   "outputs": [],
   "source": []
  }
 ],
 "metadata": {
  "kernelspec": {
   "display_name": "Python 3",
   "language": "python",
   "name": "python3"
  },
  "language_info": {
   "codemirror_mode": {
    "name": "ipython",
    "version": 3
   },
   "file_extension": ".py",
   "mimetype": "text/x-python",
   "name": "python",
   "nbconvert_exporter": "python",
   "pygments_lexer": "ipython3",
   "version": "3.5.2"
  }
 },
 "nbformat": 4,
 "nbformat_minor": 2
}
