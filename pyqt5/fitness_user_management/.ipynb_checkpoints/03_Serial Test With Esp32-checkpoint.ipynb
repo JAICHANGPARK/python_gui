{
 "cells": [
  {
   "cell_type": "code",
   "execution_count": null,
   "metadata": {},
   "outputs": [],
   "source": [
    "import serial\n",
    "import sys\n",
    "import time\n",
    "import glob"
   ]
  },
  {
   "cell_type": "code",
   "execution_count": 3,
   "metadata": {},
   "outputs": [],
   "source": [
    "s = serial.Serial('COM4', 9600)"
   ]
  },
  {
   "cell_type": "code",
   "execution_count": 4,
   "metadata": {},
   "outputs": [
    {
     "data": {
      "text/plain": [
       "Serial<id=0x14cc1254cf8, open=True>(port='COM4', baudrate=9600, bytesize=8, parity='N', stopbits=1, timeout=None, xonxoff=False, rtscts=False, dsrdtr=False)"
      ]
     },
     "execution_count": 4,
     "metadata": {},
     "output_type": "execute_result"
    }
   ],
   "source": [
    "s"
   ]
  },
  {
   "cell_type": "code",
   "execution_count": 5,
   "metadata": {},
   "outputs": [
    {
     "name": "stdout",
     "output_type": "stream",
     "text": [
      "True\n"
     ]
    }
   ],
   "source": [
    "result = s.is_open\n",
    "print(result)"
   ]
  },
  {
   "cell_type": "code",
   "execution_count": 9,
   "metadata": {},
   "outputs": [
    {
     "name": "stdout",
     "output_type": "stream",
     "text": [
      "b'r\\x96;\\xd9s\\r\\n'\n"
     ]
    }
   ],
   "source": [
    "s.write(b'r')\n",
    "read = s.readline()\n",
    "read = read.decode()\n",
    "print(read)"
   ]
  },
  {
   "cell_type": "code",
   "execution_count": null,
   "metadata": {},
   "outputs": [
    {
     "name": "stdout",
     "output_type": "stream",
     "text": [
      "PICC type: MIFARE 1KB\n",
      "\n",
      "Card read previously.\n",
      "\n",
      "PICC type: MIFARE 1KB\n",
      "\n",
      "Card read previously.\n",
      "\n"
     ]
    }
   ],
   "source": [
    "if(result):\n",
    "    while(True):\n",
    "        read = s.readline()\n",
    "        read = read.decode()\n",
    "        print(read)"
   ]
  },
  {
   "cell_type": "code",
   "execution_count": null,
   "metadata": {},
   "outputs": [],
   "source": [
    "read"
   ]
  },
  {
   "cell_type": "code",
   "execution_count": null,
   "metadata": {},
   "outputs": [],
   "source": [
    "s.close()"
   ]
  },
  {
   "cell_type": "code",
   "execution_count": 6,
   "metadata": {},
   "outputs": [],
   "source": [
    "def read_user_Tag(result):\n",
    "    if(result):\n",
    "        s.write(b'r')\n",
    "        while(True):\n",
    "        #     s.write('r'.encode())\n",
    "            read = s.readline()\n",
    "            print(read, type(read))\n",
    "            read = read.decode()\n",
    "        #     read_list.append(read)\n",
    "            print(read, type(read))\n",
    "            if(read[0] =='r'):\n",
    "                user_tag = read[1:]\n",
    "                return user_tag\n",
    "        #     time.sleep(1)\n",
    "    print(user_tag, type(user_tag))\n",
    "    s.close();"
   ]
  },
  {
   "cell_type": "code",
   "execution_count": null,
   "metadata": {},
   "outputs": [],
   "source": []
  }
 ],
 "metadata": {
  "kernelspec": {
   "display_name": "Python 3",
   "language": "python",
   "name": "python3"
  }
 },
 "nbformat": 4,
 "nbformat_minor": 2
}
