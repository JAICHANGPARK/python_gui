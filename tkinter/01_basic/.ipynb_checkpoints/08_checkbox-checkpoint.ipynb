{
 "cells": [
  {
   "cell_type": "code",
   "execution_count": 1,
   "metadata": {},
   "outputs": [],
   "source": [
    "import tkinter as tk\n",
    "from tkinter import ttk\n",
    "\n",
    "# Create instance\n",
    "win = tk.Tk()   \n",
    "\n",
    "# Add a title       \n",
    "win.title(\"Python GUI\")  \n",
    "\n",
    "# Modify adding a Label\n",
    "a_label = ttk.Label(win, text=\"A Label\")\n",
    "a_label.grid(column=0, row=0)\n",
    "\n",
    "# Modified Button Click Function\n",
    "def click_me(): \n",
    "    action.configure(text='Hello ' + name.get() + ' ' + \n",
    "                     number_chosen.get())\n",
    "\n",
    "# Changing our Label\n",
    "ttk.Label(win, text=\"Enter a name:\").grid(column=0, row=0)\n",
    "\n",
    "# Adding a Textbox Entry widget\n",
    "name = tk.StringVar()\n",
    "name_entered = ttk.Entry(win, width=12, textvariable=name)\n",
    "name_entered.grid(column=0, row=1)\n",
    "\n",
    "# Adding a Button\n",
    "action = ttk.Button(win, text=\"Click Me!\", command=click_me)   \n",
    "action.grid(column=2, row=1)                                \n",
    "\n",
    "# Creating three checkbuttons\n",
    "ttk.Label(win, text=\"Choose a number:\").grid(column=1, row=0)\n",
    "number = tk.StringVar()\n",
    "number_chosen = ttk.Combobox(win, width=12, textvariable=number, state='readonly')\n",
    "number_chosen['values'] = (1, 2, 4, 42, 100)\n",
    "number_chosen.grid(column=1, row=1)\n",
    "number_chosen.current(0)\n",
    "\n",
    "chVarDis = tk.IntVar()\n",
    "check1 = tk.Checkbutton(win, text=\"Disabled\", variable=chVarDis, state='disabled')\n",
    "check1.select()\n",
    "check1.grid(column=0, row=4, sticky=tk.W)                   \n",
    "\n",
    "chVarUn = tk.IntVar()\n",
    "check2 = tk.Checkbutton(win, text=\"UnChecked\", variable=chVarUn)\n",
    "check2.deselect()\n",
    "check2.grid(column=1, row=4, sticky=tk.W)                   \n",
    "\n",
    "chVarEn = tk.IntVar()\n",
    "check3 = tk.Checkbutton(win, text=\"Enabled\", variable=chVarEn)\n",
    "check3.select()\n",
    "check3.grid(column=2, row=4, sticky=tk.W)                     \n",
    "\n",
    "name_entered.focus()      # Place cursor into name Entry"
   ]
  },
  {
   "cell_type": "code",
   "execution_count": 2,
   "metadata": {},
   "outputs": [],
   "source": [
    "win.mainloop()"
   ]
  },
  {
   "cell_type": "code",
   "execution_count": null,
   "metadata": {},
   "outputs": [],
   "source": []
  }
 ],
 "metadata": {
  "kernelspec": {
   "display_name": "Python 3",
   "language": "python",
   "name": "python3"
  },
  "language_info": {
   "codemirror_mode": {
    "name": "ipython",
    "version": 3
   },
   "file_extension": ".py",
   "mimetype": "text/x-python",
   "name": "python",
   "nbconvert_exporter": "python",
   "pygments_lexer": "ipython3",
   "version": "3.5.2"
  }
 },
 "nbformat": 4,
 "nbformat_minor": 2
}
