{
 "cells": [
  {
   "cell_type": "code",
   "execution_count": 1,
   "metadata": {},
   "outputs": [],
   "source": [
    "import tkinter as tk\n",
    "from tkinter import ttk\n",
    "win = tk.Tk()\n",
    "win.title('add label')\n",
    "\n",
    "# Modified Button Click Function\n",
    "def click_me():\n",
    "    action.configure(text='Hello ' + name.get())\n",
    "\n",
    "    \n",
    "# Changing our Label\n",
    "ttk.Label(win, text=\"Enter a name:\").grid(column=0, row=0)\n",
    "\n",
    "# Adding a Text box Entry widget\n",
    "name = tk.StringVar()\n",
    "name_entered = ttk.Entry(win, width=12, textvariable=name)\n",
    "name_entered.grid(column=0, row=1)\n",
    "\n",
    "# Adding a Button\n",
    "action = ttk.Button(win, text=\"Click Me!\", command=click_me)   \n",
    "action.grid(column=1, row=1)\n",
    "\n",
    "win.mainloop()"
   ]
  },
  {
   "cell_type": "code",
   "execution_count": null,
   "metadata": {},
   "outputs": [],
   "source": []
  }
 ],
 "metadata": {
  "kernelspec": {
   "display_name": "Python 3",
   "language": "python",
   "name": "python3"
  },
  "language_info": {
   "codemirror_mode": {
    "name": "ipython",
    "version": 3
   },
   "file_extension": ".py",
   "mimetype": "text/x-python",
   "name": "python",
   "nbconvert_exporter": "python",
   "pygments_lexer": "ipython3",
   "version": "3.5.2"
  }
 },
 "nbformat": 4,
 "nbformat_minor": 2
}
