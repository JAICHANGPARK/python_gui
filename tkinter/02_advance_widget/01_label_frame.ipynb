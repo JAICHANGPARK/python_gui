{
 "cells": [
  {
   "cell_type": "code",
   "execution_count": 5,
   "metadata": {},
   "outputs": [],
   "source": [
    "import tkinter as tk\n",
    "from tkinter import ttk"
   ]
  },
  {
   "cell_type": "code",
   "execution_count": 6,
   "metadata": {},
   "outputs": [],
   "source": [
    "win = tk.Tk()   \n",
    "\n",
    "# Add a title       \n",
    "win.title(\"Python GUI\")  \n",
    "\n",
    "# Modify adding a Label\n",
    "a_label = ttk.Label(win, text=\"A Label\")\n",
    "a_label.grid(column=0, row=0)"
   ]
  },
  {
   "cell_type": "code",
   "execution_count": 3,
   "metadata": {},
   "outputs": [],
   "source": [
    "# Create a container to hold labels\n",
    "buttons_frame = ttk.LabelFrame(win, text=' Labels in a Frame ')\n",
    "buttons_frame.grid(column=0, row=7) \n",
    "# buttons_frame.grid(column=1, row=7)                # now in col 1\n",
    " \n",
    "# Place labels into the container element\n",
    "ttk.Label(buttons_frame, text=\"Label1\").grid(column=0, row=0, sticky=tk.W)\n",
    "ttk.Label(buttons_frame, text=\"Label2\").grid(column=1, row=0, sticky=tk.W)\n",
    "ttk.Label(buttons_frame, text=\"Label3\").grid(column=2, row=0, sticky=tk.W)"
   ]
  },
  {
   "cell_type": "code",
   "execution_count": 8,
   "metadata": {},
   "outputs": [],
   "source": [
    "win.mainloop()"
   ]
  },
  {
   "cell_type": "code",
   "execution_count": 7,
   "metadata": {},
   "outputs": [],
   "source": [
    "# Create a container to hold labels\n",
    "buttons_frame = ttk.LabelFrame(win, text=' Labels in a Frame ')\n",
    "buttons_frame.grid(column=0, row=7) \n",
    "# buttons_frame.grid(column=1, row=7)                # now in col 1\n",
    " \n",
    "# Place labels into the container element\n",
    "ttk.Label(buttons_frame, text=\"Label1\").grid(column=0, row=0, sticky=tk.W)\n",
    "ttk.Label(buttons_frame, text=\"Label2\").grid(column=0, row=1, sticky=tk.W)\n",
    "ttk.Label(buttons_frame, text=\"Label3\").grid(column=0, row=2, sticky=tk.W)"
   ]
  },
  {
   "cell_type": "code",
   "execution_count": null,
   "metadata": {},
   "outputs": [],
   "source": []
  }
 ],
 "metadata": {
  "kernelspec": {
   "display_name": "Python 3",
   "language": "python",
   "name": "python3"
  },
  "language_info": {
   "codemirror_mode": {
    "name": "ipython",
    "version": 3
   },
   "file_extension": ".py",
   "mimetype": "text/x-python",
   "name": "python",
   "nbconvert_exporter": "python",
   "pygments_lexer": "ipython3",
   "version": "3.5.2"
  }
 },
 "nbformat": 4,
 "nbformat_minor": 2
}
