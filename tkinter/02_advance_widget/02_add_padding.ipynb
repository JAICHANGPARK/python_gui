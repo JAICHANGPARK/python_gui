{
 "cells": [
  {
   "cell_type": "code",
   "execution_count": 1,
   "metadata": {},
   "outputs": [],
   "source": [
    "import tkinter as tk\n",
    "from tkinter import ttk\n",
    "\n",
    "win = tk.Tk()   \n",
    "\n",
    "# Add a title       \n",
    "win.title(\"Python GUI\")  \n",
    "\n",
    "# Modify adding a Label\n",
    "a_label = ttk.Label(win, text=\"A Label\")\n",
    "a_label.grid(column=0, row=0)\n",
    "\n",
    "# Create a container to hold labels\n",
    "buttons_frame = ttk.LabelFrame(win, text=' Labels in a Frame ')\n",
    "buttons_frame.grid(column=0, row=3, padx = 20 , pady = 40) \n",
    "# buttons_frame.grid(column=1, row=7)                # now in col 1\n",
    " \n",
    "# Place labels into the container element\n",
    "ttk.Label(buttons_frame, text=\"Label1\").grid(column=0, row=0, sticky=tk.W)\n",
    "ttk.Label(buttons_frame, text=\"Label2\").grid(column=0, row=1, sticky=tk.W)\n",
    "ttk.Label(buttons_frame, text=\"Label3\").grid(column=0, row=2, sticky=tk.W)\n",
    "\n",
    "win.mainloop()"
   ]
  },
  {
   "cell_type": "code",
   "execution_count": 12,
   "metadata": {
    "scrolled": true
   },
   "outputs": [
    {
     "ename": "NameError",
     "evalue": "name 'tkinter' is not defined",
     "output_type": "error",
     "traceback": [
      "\u001b[1;31m---------------------------------------------------------------------------\u001b[0m",
      "\u001b[1;31mNameError\u001b[0m                                 Traceback (most recent call last)",
      "\u001b[1;32m<ipython-input-12-dff0ce823c56>\u001b[0m in \u001b[0;36m<module>\u001b[1;34m()\u001b[0m\n\u001b[1;32m----> 1\u001b[1;33m \u001b[0mtkinter\u001b[0m\u001b[1;33m.\u001b[0m\u001b[0m__version__\u001b[0m\u001b[1;33m\u001b[0m\u001b[0m\n\u001b[0m",
      "\u001b[1;31mNameError\u001b[0m: name 'tkinter' is not defined"
     ]
    }
   ],
   "source": []
  },
  {
   "cell_type": "code",
   "execution_count": null,
   "metadata": {},
   "outputs": [],
   "source": []
  }
 ],
 "metadata": {
  "kernelspec": {
   "display_name": "Python 3",
   "language": "python",
   "name": "python3"
  },
  "language_info": {
   "codemirror_mode": {
    "name": "ipython",
    "version": 3
   },
   "file_extension": ".py",
   "mimetype": "text/x-python",
   "name": "python",
   "nbconvert_exporter": "python",
   "pygments_lexer": "ipython3",
   "version": "3.5.2"
  }
 },
 "nbformat": 4,
 "nbformat_minor": 2
}
