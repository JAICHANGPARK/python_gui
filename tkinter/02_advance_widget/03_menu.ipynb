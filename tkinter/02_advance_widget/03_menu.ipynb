{
 "cells": [
  {
   "cell_type": "code",
   "execution_count": 5,
   "metadata": {},
   "outputs": [],
   "source": [
    "import tkinter as tk\n",
    "from tkinter import ttk\n",
    "from tkinter import Menu"
   ]
  },
  {
   "cell_type": "markdown",
   "metadata": {},
   "source": [
    "- tearoff=0 속성 제거"
   ]
  },
  {
   "cell_type": "code",
   "execution_count": 12,
   "metadata": {},
   "outputs": [],
   "source": [
    "win = tk.Tk()   \n",
    "\n",
    "# Add a title       \n",
    "win.title(\"Python GUI 101\")  \n",
    "\n",
    "# Modify adding a Label\n",
    "a_label = ttk.Label(win, text=\"Hello?\")\n",
    "a_label.grid(column=0, row=0)\n",
    "\n",
    "menu_bar = Menu(win)\n",
    "win.config(menu = menu_bar)\n",
    "\n",
    "file_menu = Menu(menu_bar, tearoff=0)\n",
    "file_menu.add_command(label='New')\n",
    "file_menu.add_separator()\n",
    "file_menu.add_command(label='Exit')\n",
    "menu_bar.add_cascade(label='Files', menu=file_menu)\n",
    "win.mainloop()"
   ]
  },
  {
   "cell_type": "code",
   "execution_count": null,
   "metadata": {},
   "outputs": [],
   "source": []
  }
 ],
 "metadata": {
  "kernelspec": {
   "display_name": "Python 3",
   "language": "python",
   "name": "python3"
  },
  "language_info": {
   "codemirror_mode": {
    "name": "ipython",
    "version": 3
   },
   "file_extension": ".py",
   "mimetype": "text/x-python",
   "name": "python",
   "nbconvert_exporter": "python",
   "pygments_lexer": "ipython3",
   "version": "3.5.2"
  }
 },
 "nbformat": 4,
 "nbformat_minor": 2
}
