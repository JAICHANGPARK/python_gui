{
 "cells": [
  {
   "cell_type": "code",
   "execution_count": 4,
   "metadata": {},
   "outputs": [],
   "source": [
    "import tkinter as tk\n",
    "from tkinter import ttk\n",
    "from tkinter import Menu\n",
    "\n",
    "win = tk.Tk()   \n",
    "\n",
    "# Add a title       \n",
    "win.title(\"Python GUI 101\")  \n",
    "\n",
    "# Modify adding a Label\n",
    "a_label = ttk.Label(win, text=\"Hello?\")\n",
    "a_label.grid(column=0, row=0)\n",
    "\n",
    "\n",
    "def _quit():\n",
    "    win.quit()\n",
    "    win.destroy()\n",
    "\n",
    "menu_bar = Menu(win)\n",
    "win.config(menu = menu_bar)\n",
    "\n",
    "file_menu = Menu(menu_bar, tearoff=0)\n",
    "file_menu.add_command(label='New')\n",
    "file_menu.add_separator()\n",
    "file_menu.add_command(label='Exit', command=_quit)\n",
    "menu_bar.add_cascade(label='Files', menu=file_menu)\n",
    "\n",
    "help_menu = Menu(menu_bar, tearoff=0)\n",
    "help_menu.add_command(label='About')\n",
    "menu_bar.add_cascade(label='Help', menu=help_menu)\n",
    "\n",
    "win.mainloop()"
   ]
  },
  {
   "cell_type": "code",
   "execution_count": null,
   "metadata": {},
   "outputs": [],
   "source": []
  }
 ],
 "metadata": {
  "kernelspec": {
   "display_name": "Python 3",
   "language": "python",
   "name": "python3"
  },
  "language_info": {
   "codemirror_mode": {
    "name": "ipython",
    "version": 3
   },
   "file_extension": ".py",
   "mimetype": "text/x-python",
   "name": "python",
   "nbconvert_exporter": "python",
   "pygments_lexer": "ipython3",
   "version": "3.5.2"
  }
 },
 "nbformat": 4,
 "nbformat_minor": 2
}
