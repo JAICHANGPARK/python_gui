{
 "cells": [
  {
   "cell_type": "code",
   "execution_count": 1,
   "metadata": {},
   "outputs": [],
   "source": [
    "import tkinter as tk\n",
    "from tkinter import ttk\n",
    "from tkinter import scrolledtext\n",
    "from tkinter import Menu\n",
    "from tkinter import messagebox as msg\n",
    "from tkinter import Spinbox\n",
    "from time import  sleep         # careful - this can freeze the GUI"
   ]
  },
  {
   "cell_type": "code",
   "execution_count": 2,
   "metadata": {},
   "outputs": [
    {
     "data": {
      "text/plain": [
       "''"
      ]
     },
     "execution_count": 2,
     "metadata": {},
     "output_type": "execute_result"
    }
   ],
   "source": [
    "# Create instance\n",
    "win = tk.Tk()   \n",
    "\n",
    "# Add a title       \n",
    "win.title(\"Python GUI\")  "
   ]
  },
  {
   "cell_type": "code",
   "execution_count": 3,
   "metadata": {},
   "outputs": [],
   "source": [
    "# Tab Control 2 refactoring  ---------------------------------------------------------\n",
    "# We are creating a container frame to hold all other widgets -- Tab2\n",
    "mighty2 = ttk.LabelFrame(win, text=' The Snake ')\n",
    "mighty2.grid(column=0, row=0, padx=8, pady=4)\n",
    "\n",
    "# Add a Progressbar to Tab 2\n",
    "progress_bar = ttk.Progressbar(win, orient='horizontal', length=286, mode='determinate')\n",
    "progress_bar.grid(column=0, row=3, pady=2) \n",
    "\n",
    "# update progressbar in callback loop\n",
    "def run_progressbar():\n",
    "    progress_bar[\"maximum\"] = 100\n",
    "    for i in range(101):\n",
    "        sleep(0.05)\n",
    "        progress_bar[\"value\"] = i   # increment progressbar\n",
    "        progress_bar.update()       # have to call update() in loop\n",
    "    progress_bar[\"value\"] = 0       # reset/clear progressbar  \n",
    "    \n",
    "def start_progressbar():\n",
    "    progress_bar.start()\n",
    "    \n",
    "def stop_progressbar():\n",
    "    progress_bar.stop()\n",
    " \n",
    "def progressbar_stop_after(wait_ms=1000):    \n",
    "    win.after(wait_ms, progress_bar.stop)"
   ]
  },
  {
   "cell_type": "code",
   "execution_count": 4,
   "metadata": {},
   "outputs": [],
   "source": [
    "# Create a container to hold buttons\n",
    "buttons_frame = ttk.LabelFrame(mighty2, text=' ProgressBar ')\n",
    "buttons_frame.grid(column=0, row=2, sticky='W', columnspan=2)        \n",
    "\n",
    "# Add Buttons for Progressbar commands\n",
    "ttk.Button(buttons_frame, text=\" Run Progressbar   \", command=run_progressbar).grid(column=0, row=0, sticky='W')  \n",
    "ttk.Button(buttons_frame, text=\" Start Progressbar  \", command=start_progressbar).grid(column=0, row=1, sticky='W')  \n",
    "ttk.Button(buttons_frame, text=\" Stop immediately \", command=stop_progressbar).grid(column=0, row=2, sticky='W')  \n",
    "ttk.Button(buttons_frame, text=\" Stop after second \", command=progressbar_stop_after).grid(column=0, row=3, sticky='W')  \n",
    " \n",
    "for child in buttons_frame.winfo_children():  \n",
    "    child.grid_configure(padx=2, pady=2) \n",
    " \n",
    "for child in mighty2.winfo_children():  \n",
    "    child.grid_configure(padx=8, pady=2) "
   ]
  },
  {
   "cell_type": "code",
   "execution_count": 5,
   "metadata": {},
   "outputs": [],
   "source": [
    "win.mainloop()"
   ]
  },
  {
   "cell_type": "code",
   "execution_count": null,
   "metadata": {},
   "outputs": [],
   "source": []
  }
 ],
 "metadata": {
  "kernelspec": {
   "display_name": "Python 3",
   "language": "python",
   "name": "python3"
  },
  "language_info": {
   "codemirror_mode": {
    "name": "ipython",
    "version": 3
   },
   "file_extension": ".py",
   "mimetype": "text/x-python",
   "name": "python",
   "nbconvert_exporter": "python",
   "pygments_lexer": "ipython3",
   "version": "3.5.2"
  }
 },
 "nbformat": 4,
 "nbformat_minor": 2
}
