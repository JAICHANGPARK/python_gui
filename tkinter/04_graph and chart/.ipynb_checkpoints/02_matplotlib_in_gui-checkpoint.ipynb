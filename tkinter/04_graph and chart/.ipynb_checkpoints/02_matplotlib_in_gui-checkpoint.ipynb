{
 "cells": [
  {
   "cell_type": "code",
   "execution_count": 1,
   "metadata": {},
   "outputs": [],
   "source": [
    "from matplotlib.figure import Figure \n",
    "from matplotlib.backends.backend_tkagg import FigureCanvasTkAgg \n",
    "import tkinter as tk"
   ]
  },
  {
   "cell_type": "code",
   "execution_count": 2,
   "metadata": {},
   "outputs": [],
   "source": [
    "#-------------------------------------------------------------- \n",
    "fig = Figure(figsize=(12, 8), facecolor='white') \n",
    "#-------------------------------------------------------------- \n",
    "# axis = fig.add_subplot(111)   # 1 row,  1 column, only graph \n",
    "axis = fig.add_subplot(211)     # 2 rows, 1 column, Top graph \n",
    "#-------------------------------------------------------------- \n",
    "xValues = [1,2,3,4] \n",
    "yValues = [5,7,6,8] \n",
    "axis.plot(xValues, yValues) \n",
    " \n",
    "axis.set_xlabel('Horizontal Label') \n",
    "axis.set_ylabel('Vertical Label') \n",
    " \n",
    "# axis.grid()                   # default line style  \n",
    "axis.grid(linestyle='-')        # solid grid lines \n",
    "#-------------------------------------------------------------- \n",
    "def _destroyWindow(): \n",
    "    root.quit() \n",
    "    root.destroy()  \n",
    "#-------------------------------------------------------------- \n",
    "root = tk.Tk()  \n",
    "root.withdraw() \n",
    "root.protocol('WM_DELETE_WINDOW', _destroyWindow)    \n",
    "#-------------------------------------------------------------- \n",
    "canvas = FigureCanvasTkAgg(fig, master=root) \n",
    "canvas._tkcanvas.pack(side=tk.TOP, fill=tk.BOTH, expand=1) \n",
    "#-------------------------------------------------------------- \n",
    "root.update() \n",
    "root.deiconify() \n",
    "root.mainloop() "
   ]
  },
  {
   "cell_type": "code",
   "execution_count": null,
   "metadata": {},
   "outputs": [],
   "source": []
  }
 ],
 "metadata": {
  "kernelspec": {
   "display_name": "Python 3",
   "language": "python",
   "name": "python3"
  },
  "language_info": {
   "codemirror_mode": {
    "name": "ipython",
    "version": 3
   },
   "file_extension": ".py",
   "mimetype": "text/x-python",
   "name": "python",
   "nbconvert_exporter": "python",
   "pygments_lexer": "ipython3",
   "version": "3.5.2"
  }
 },
 "nbformat": 4,
 "nbformat_minor": 2
}
