{
 "cells": [
  {
   "cell_type": "code",
   "execution_count": 1,
   "metadata": {},
   "outputs": [],
   "source": [
    "from matplotlib.figure import Figure\n",
    "from matplotlib.backends.backend_tkagg import FigureCanvasTkAgg\n",
    "import tkinter as tk"
   ]
  },
  {
   "cell_type": "code",
   "execution_count": 2,
   "metadata": {},
   "outputs": [],
   "source": [
    "fig = Figure(figsize=(12, 5), facecolor='white')\n",
    "#--------------------------------------------------------------          \n",
    "axis  = fig.add_subplot(111)                  # 1 row, 1 column"
   ]
  },
  {
   "cell_type": "code",
   "execution_count": 3,
   "metadata": {},
   "outputs": [],
   "source": [
    "xValues  = [1,2,3,4]\n",
    "\n",
    "yValues0 = [6,7.5,8,7.5]\n",
    "yValues1 = [5.5,6.5,8,6]\n",
    "yValues2 = [6.5,7,8,7]"
   ]
  },
  {
   "cell_type": "code",
   "execution_count": 4,
   "metadata": {},
   "outputs": [
    {
     "data": {
      "text/plain": [
       "<matplotlib.legend.Legend at 0x25ba34ab7b8>"
      ]
     },
     "execution_count": 4,
     "metadata": {},
     "output_type": "execute_result"
    }
   ],
   "source": [
    "# the commas after t0, t1 and t2 are required\n",
    "t0, = axis.plot(xValues, yValues0)  \n",
    "t1, = axis.plot(xValues, yValues1)\n",
    "t2, = axis.plot(xValues, yValues2)\n",
    "\n",
    "# t0, = axis.plot(xValues, yValues0, color = 'purple')  # change the color of the plotted line to purple\n",
    "# t0, = axis.plot(xValues, yValues0, color = 'r')  # change the color of the plotted line\n",
    "# t1, = axis.plot(xValues, yValues1, color = 'b')\n",
    "# t2, = axis.plot(xValues, yValues2, color = 'purple')\n",
    "\n",
    "axis.set_ylabel('Vertical Label')\n",
    "axis.set_xlabel('Horizontal Label')\n",
    "\n",
    "axis.grid()\n",
    "          \n",
    "fig.legend((t0, t1, t2), ('First line', 'Second line', 'Third line'), 'upper right')"
   ]
  },
  {
   "cell_type": "code",
   "execution_count": 5,
   "metadata": {},
   "outputs": [],
   "source": [
    "def _destroyWindow():\n",
    "    root.quit()\n",
    "    root.destroy() "
   ]
  },
  {
   "cell_type": "code",
   "execution_count": 6,
   "metadata": {},
   "outputs": [
    {
     "data": {
      "text/plain": [
       "''"
      ]
     },
     "execution_count": 6,
     "metadata": {},
     "output_type": "execute_result"
    }
   ],
   "source": [
    "root = tk.Tk() \n",
    "root.withdraw()\n",
    "root.protocol('WM_DELETE_WINDOW', _destroyWindow)  "
   ]
  },
  {
   "cell_type": "code",
   "execution_count": 7,
   "metadata": {},
   "outputs": [],
   "source": [
    "canvas = FigureCanvasTkAgg(fig, master=root)\n",
    "canvas._tkcanvas.pack(side=tk.TOP, fill=tk.BOTH, expand=1)      "
   ]
  },
  {
   "cell_type": "code",
   "execution_count": 8,
   "metadata": {},
   "outputs": [],
   "source": [
    "root.update()\n",
    "root.deiconify()\n",
    "root.mainloop() "
   ]
  },
  {
   "cell_type": "code",
   "execution_count": null,
   "metadata": {},
   "outputs": [],
   "source": []
  }
 ],
 "metadata": {
  "kernelspec": {
   "display_name": "Python 3",
   "language": "python",
   "name": "python3"
  },
  "language_info": {
   "codemirror_mode": {
    "name": "ipython",
    "version": 3
   },
   "file_extension": ".py",
   "mimetype": "text/x-python",
   "name": "python",
   "nbconvert_exporter": "python",
   "pygments_lexer": "ipython3",
   "version": "3.5.2"
  }
 },
 "nbformat": 4,
 "nbformat_minor": 2
}
