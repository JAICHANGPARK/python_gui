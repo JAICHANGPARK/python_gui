{
 "cells": [
  {
   "cell_type": "code",
   "execution_count": 1,
   "metadata": {},
   "outputs": [],
   "source": [
    "from matplotlib.figure import Figure \n",
    "from matplotlib.backends.backend_tkagg import FigureCanvasTkAgg \n",
    "import tkinter as tk "
   ]
  },
  {
   "cell_type": "code",
   "execution_count": 2,
   "metadata": {},
   "outputs": [],
   "source": [
    "fig = Figure(figsize=(12, 8), facecolor='white') \n",
    "xValues = [1,2,3,4] \n",
    "yValues = [5,7,6,8]"
   ]
  },
  {
   "cell_type": "code",
   "execution_count": 3,
   "metadata": {},
   "outputs": [],
   "source": [
    "axis1 = fig.add_subplot(221)\n",
    "axis2 = fig.add_subplot(222, sharex=axis1, sharey=axis1)\n",
    "axis3 = fig.add_subplot(223, sharex=axis1, sharey=axis1)\n",
    "axis4 = fig.add_subplot(224, sharex=axis1, sharey=axis1)"
   ]
  },
  {
   "cell_type": "code",
   "execution_count": 4,
   "metadata": {},
   "outputs": [],
   "source": [
    "axis1.plot(xValues, yValues) \n",
    "axis1.set_xlabel('Horizontal Label 1') \n",
    "axis1.set_ylabel('Vertical Label 1')  \n",
    "axis1.grid(linestyle='-')        # solid grid lines \n",
    "#-------------------------------------------------------------- \n",
    "axis2.plot(xValues, yValues) \n",
    "axis2.set_xlabel('Horizontal Label 2') \n",
    "axis2.set_ylabel('Vertical Label 2')  \n",
    "axis2.grid(linestyle='-')        # solid grid lines \n",
    "#-------------------------------------------------------------- \n",
    "axis3.plot(xValues, yValues) \n",
    "axis3.set_xlabel('Horizontal Label3') \n",
    "axis3.set_ylabel('Vertical Label 3')  \n",
    "axis3.grid(linestyle='-')        # solid grid lines \n",
    "#-------------------------------------------------------------- \n",
    "axis4.plot(xValues, yValues) \n",
    "axis4.set_xlabel('Horizontal Label 4') \n",
    "axis4.set_ylabel('Vertical Label 4')  \n",
    "axis4.grid(linestyle='-')        # solid grid lines "
   ]
  },
  {
   "cell_type": "code",
   "execution_count": 5,
   "metadata": {},
   "outputs": [],
   "source": [
    "def _destroyWindow(): \n",
    "    root.quit() \n",
    "    root.destroy()  "
   ]
  },
  {
   "cell_type": "code",
   "execution_count": 6,
   "metadata": {},
   "outputs": [
    {
     "data": {
      "text/plain": [
       "''"
      ]
     },
     "execution_count": 6,
     "metadata": {},
     "output_type": "execute_result"
    }
   ],
   "source": [
    "root = tk.Tk()  \n",
    "root.withdraw() \n",
    "root.protocol('WM_DELETE_WINDOW', _destroyWindow)    "
   ]
  },
  {
   "cell_type": "code",
   "execution_count": 7,
   "metadata": {},
   "outputs": [],
   "source": [
    "canvas = FigureCanvasTkAgg(fig, master=root) \n",
    "canvas._tkcanvas.pack(side=tk.TOP, fill=tk.BOTH, expand=1) "
   ]
  },
  {
   "cell_type": "code",
   "execution_count": 8,
   "metadata": {},
   "outputs": [],
   "source": [
    "root.update() \n",
    "root.deiconify() \n",
    "root.mainloop() "
   ]
  },
  {
   "cell_type": "code",
   "execution_count": null,
   "metadata": {},
   "outputs": [],
   "source": []
  }
 ],
 "metadata": {
  "kernelspec": {
   "display_name": "Python 3",
   "language": "python",
   "name": "python3"
  },
  "language_info": {
   "codemirror_mode": {
    "name": "ipython",
    "version": 3
   },
   "file_extension": ".py",
   "mimetype": "text/x-python",
   "name": "python",
   "nbconvert_exporter": "python",
   "pygments_lexer": "ipython3",
   "version": "3.5.2"
  }
 },
 "nbformat": 4,
 "nbformat_minor": 2
}
